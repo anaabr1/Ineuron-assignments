{
 "cells": [
  {
   "cell_type": "markdown",
   "id": "6df0a256",
   "metadata": {},
   "source": [
    "# 1. What is the result of the code, and explain?\n",
    "X = 'iNeuron'\n",
    "- def func():\n",
    "- print(X)\n",
    "- func()\n"
   ]
  },
  {
   "cell_type": "markdown",
   "id": "c1f468e9",
   "metadata": {},
   "source": [
    "# **Answer**\n",
    "- The global variables are accessible in side the functions in python. But we can not access function variable out side  function. \n",
    "- Since x is golbal variable we are able to print it in side the function.\n",
    "- solution : 'iNeuron'"
   ]
  },
  {
   "cell_type": "code",
   "execution_count": 1,
   "id": "e2200682",
   "metadata": {},
   "outputs": [
    {
     "name": "stdout",
     "output_type": "stream",
     "text": [
      "iNeuron\n"
     ]
    }
   ],
   "source": [
    "X = 'iNeuron'\n",
    "def func():\n",
    "    print(X)\n",
    "func()"
   ]
  },
  {
   "cell_type": "markdown",
   "id": "9a753af2",
   "metadata": {},
   "source": [
    "# 2. What is the result of the code, and explain?\n"
   ]
  },
  {
   "cell_type": "markdown",
   "id": "b782845a",
   "metadata": {},
   "source": [
    "X = 'iNeuron'\n",
    "\n",
    "def func(): \n",
    "    X = 'NI!'\n",
    "\n",
    "func()\n",
    "print(X)\n"
   ]
  },
  {
   "cell_type": "markdown",
   "id": "4db07f63",
   "metadata": {},
   "source": [
    "# **Answer**\n"
   ]
  },
  {
   "cell_type": "markdown",
   "id": "256b2b34",
   "metadata": {},
   "source": [
    "- The global variables are access in side the functions in python. But we can not access function variable out side function. \n",
    "- Since x is golbal variable we are able to print it out side of the function.\n",
    "- solution = 'iNeuron'"
   ]
  },
  {
   "cell_type": "code",
   "execution_count": 2,
   "id": "ae982149",
   "metadata": {},
   "outputs": [
    {
     "name": "stdout",
     "output_type": "stream",
     "text": [
      "iNeuron\n"
     ]
    }
   ],
   "source": [
    "X = 'iNeuron'\n",
    "def func():\n",
    "    X = 'NI!'\n",
    "\n",
    "func()\n",
    "print(X)"
   ]
  },
  {
   "cell_type": "markdown",
   "id": "e04f290c",
   "metadata": {},
   "source": [
    "# 3. What does this code print, and why?\n"
   ]
  },
  {
   "cell_type": "markdown",
   "id": "df09dc44",
   "metadata": {},
   "source": [
    "X = 'iNeuron'\n",
    "\n",
    "def func():\n",
    "\n",
    "    X = 'NI!'\n",
    "    print(X)\n",
    "\n",
    "func()\n",
    "print(X)\n"
   ]
  },
  {
   "cell_type": "markdown",
   "id": "bf4484a6",
   "metadata": {},
   "source": [
    "# Answer"
   ]
  },
  {
   "cell_type": "markdown",
   "id": "7e41166b",
   "metadata": {},
   "source": [
    "- The global variables are access in side the functions in python. But we can not access function variable out side function. X is updated with 'NI' which is local to function and its immutable. its name space is with in the function\n",
    "- solution = 'NI!', 'iNeuron'"
   ]
  },
  {
   "cell_type": "code",
   "execution_count": 3,
   "id": "10f820e8",
   "metadata": {},
   "outputs": [
    {
     "name": "stdout",
     "output_type": "stream",
     "text": [
      "NI!\n",
      "iNeuron\n"
     ]
    }
   ],
   "source": [
    "X = 'iNeuron'\n",
    "def func():\n",
    "    X = 'NI!'\n",
    "    print(X)\n",
    "\n",
    "func()\n",
    "print(X)"
   ]
  },
  {
   "cell_type": "markdown",
   "id": "b48fd0bd",
   "metadata": {},
   "source": [
    "# 4. What output does this code produce? Why?\n"
   ]
  },
  {
   "cell_type": "markdown",
   "id": "2e3fa318",
   "metadata": {},
   "source": [
    "X = 'iNeuron'\n",
    "\n",
    "def func():\n",
    "    \n",
    "    global X\n",
    "    X = 'NI!'\n",
    "    print(X)\n",
    "\n",
    "func()\n",
    "print(X)"
   ]
  },
  {
   "cell_type": "markdown",
   "id": "07fd813d",
   "metadata": {},
   "source": [
    "# Answer"
   ]
  },
  {
   "cell_type": "markdown",
   "id": "a8d19024",
   "metadata": {},
   "source": [
    "since the X in side function is made Global, it will be accesible out side of the function too. now X will have new value.\n",
    "\n",
    " solution : 'NI!', 'NI!'\n"
   ]
  },
  {
   "cell_type": "code",
   "execution_count": 5,
   "id": "53f1c79d",
   "metadata": {},
   "outputs": [
    {
     "name": "stdout",
     "output_type": "stream",
     "text": [
      "NI!\n",
      "NI!\n"
     ]
    }
   ],
   "source": [
    "X = 'iNeuron'\n",
    "def func():\n",
    "    global X\n",
    "    X = 'NI!'\n",
    "    print(X)\n",
    "\n",
    "func()\n",
    "print(X)"
   ]
  },
  {
   "cell_type": "markdown",
   "id": "4fb289a0",
   "metadata": {},
   "source": [
    "# 5. What about this code—what’s the output, and why?\n"
   ]
  },
  {
   "cell_type": "markdown",
   "id": "2956065c",
   "metadata": {},
   "source": [
    "X = 'iNeuron'\n",
    "\n",
    "def func():\n",
    "\n",
    "    X = 'NI'\n",
    "def nested():\n",
    "\n",
    "    print(X)\n",
    "\n",
    "nested()\n",
    "\n",
    "func()\n",
    "\n",
    "X"
   ]
  },
  {
   "cell_type": "markdown",
   "id": "667890dc",
   "metadata": {},
   "source": [
    "# Answer"
   ]
  },
  {
   "cell_type": "markdown",
   "id": "a205acbe",
   "metadata": {},
   "source": [
    "the nested() function will print 'iNeuron', Then func() does not display anything, and x ='NI' is not accessible out \n",
    "side the function.\n",
    "\n",
    "Solution : 'iNeuron'"
   ]
  },
  {
   "cell_type": "code",
   "execution_count": 7,
   "id": "f428b66b",
   "metadata": {},
   "outputs": [
    {
     "name": "stdout",
     "output_type": "stream",
     "text": [
      "iNeuron\n"
     ]
    },
    {
     "data": {
      "text/plain": [
       "'iNeuron'"
      ]
     },
     "execution_count": 7,
     "metadata": {},
     "output_type": "execute_result"
    }
   ],
   "source": [
    "X = 'iNeuron'\n",
    "def func():\n",
    "    X = 'NI'\n",
    "def nested():\n",
    "    print(X)\n",
    "    \n",
    "nested()\n",
    "func()\n",
    "X"
   ]
  },
  {
   "cell_type": "markdown",
   "id": "6dbee271",
   "metadata": {},
   "source": [
    "# 6. How about this code: what is its output in Python 3, and explain?\n"
   ]
  },
  {
   "cell_type": "markdown",
   "id": "389fb3af",
   "metadata": {},
   "source": [
    "X = 'kkl'\n",
    "\n",
    "def func():\n",
    "\n",
    "    X = 'NI'\n",
    "    def nested():\n",
    "    \n",
    "        nonlocal X\n",
    "        \n",
    "        X = 'spam'\n",
    "        \n",
    "    nested()\n",
    "    \n",
    "    print(X)\n",
    "\n",
    "func()\n",
    "\n",
    "Nonlocal variables are used in nested functions whose local scope is not defined. \n",
    "This means that the variable can be neither in the local nor the global scope. it print the updated value from nested \n",
    "function\n",
    "\n",
    "Solution : 'spam'\n"
   ]
  },
  {
   "cell_type": "code",
   "execution_count": 8,
   "id": "1e831937",
   "metadata": {},
   "outputs": [
    {
     "name": "stdout",
     "output_type": "stream",
     "text": [
      "spam\n"
     ]
    }
   ],
   "source": [
    "def func():\n",
    "    X = 'NI'\n",
    "    def nested():\n",
    "        nonlocal X\n",
    "        X = 'spam'\n",
    "    nested()\n",
    "    print(X)\n",
    "\n",
    "func()"
   ]
  },
  {
   "cell_type": "code",
   "execution_count": null,
   "id": "50fdb588",
   "metadata": {},
   "outputs": [],
   "source": []
  }
 ],
 "metadata": {
  "kernelspec": {
   "display_name": "Python 3 (ipykernel)",
   "language": "python",
   "name": "python3"
  },
  "language_info": {
   "codemirror_mode": {
    "name": "ipython",
    "version": 3
   },
   "file_extension": ".py",
   "mimetype": "text/x-python",
   "name": "python",
   "nbconvert_exporter": "python",
   "pygments_lexer": "ipython3",
   "version": "3.9.13"
  }
 },
 "nbformat": 4,
 "nbformat_minor": 5
}
