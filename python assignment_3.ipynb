{
 "cells": [
  {
   "cell_type": "markdown",
   "id": "3726672b",
   "metadata": {},
   "source": [
    "# 1. Why are functions advantageous to have in your programs?\n",
    "The advantages of using functions are:\n",
    "- Avoid repetition of codes.\n",
    "- Increases program readability and modularity\n",
    "- Divide a complex problem into simpler ones.\n",
    "- Reduces chances of error.\n",
    "- Modifying a program becomes easier by using function."
   ]
  },
  {
   "cell_type": "markdown",
   "id": "42a7ac97",
   "metadata": {},
   "source": [
    "\n",
    "# 2. When does the code in a function execute: when the function is defined or when the function is called?\n",
    "    The code in a function executes when the function is called, not when the function is defined."
   ]
  },
  {
   "cell_type": "markdown",
   "id": "554c06b1",
   "metadata": {},
   "source": [
    "# 3. What statement creates a function?\n",
    "The def functionName() creates a function"
   ]
  },
  {
   "cell_type": "markdown",
   "id": "22c54973",
   "metadata": {},
   "source": [
    "# 4. What is the difference between a function and a function call?\n",
    "- A function : is a block of code that does a particular operation and returns a result. It usually accepts inputs as  parameters and returns a result. The parameters are not mandatory. \n",
    "- A Function call : is the code used to pass control to a function"
   ]
  },
  {
   "cell_type": "markdown",
   "id": "88f8f0aa",
   "metadata": {},
   "source": [
    "# 5. How many global scopes are there in a Python program? How many local scopes?\n",
    "There is one global scope, and a local scope is created whenever a function is called"
   ]
  },
  {
   "cell_type": "markdown",
   "id": "df14eb75",
   "metadata": {},
   "source": [
    "# 6. What happens to variables in a local scope when the function call returns?\n",
    "When a function returns, the local scope is destroyed, and all the variables in it are forgotten. we will not be able to access the out side the function"
   ]
  },
  {
   "cell_type": "markdown",
   "id": "aa6ff2bd",
   "metadata": {},
   "source": [
    "# 7. What is the concept of a return value? Is it possible to have a return value in an expression?\n",
    "A return value is the value that a function call evaluates to. A return value can be used as part of an expression, Like any value"
   ]
  },
  {
   "cell_type": "markdown",
   "id": "eda10d9e",
   "metadata": {},
   "source": [
    "# 8. If a function does not have a return statement, what is the return value of a call to that function?\n",
    "If there is no return statement for a function, its return value is None"
   ]
  },
  {
   "cell_type": "markdown",
   "id": "9816d1ce",
   "metadata": {},
   "source": [
    "# 9. How do you make a function variable refer to the global variable?\n",
    "By representing a valible by global keywaord in the body of a function Example : global a"
   ]
  },
  {
   "cell_type": "markdown",
   "id": "4e0b0eb0",
   "metadata": {},
   "source": [
    "# 10. What is the data type of None?\n",
    "The data type of none is NoneType"
   ]
  },
  {
   "cell_type": "markdown",
   "id": "aec43c24",
   "metadata": {},
   "source": [
    "# 11. What does the sentence import areallyourpetsnamederic do?\n",
    "areallyourpetsnamederic ia not a python module. Importing this module will throughs ModuleNotFoundError exception"
   ]
  },
  {
   "cell_type": "markdown",
   "id": "06d78658",
   "metadata": {},
   "source": [
    "# 12. If you had a bacon() feature in a spam module, what would you call it after importing spam?\n",
    "This function can be called with spam.bacon(). like below\n",
    "- import spam\n",
    "- spam.bacon()"
   ]
  },
  {
   "cell_type": "markdown",
   "id": "459b101f",
   "metadata": {},
   "source": [
    "# 13. What can you do to save a programme from crashing if it encounters an error?\n",
    "we can write lines of code in try block. This will not crash the programme. And in except block we can catch the \n",
    "exception"
   ]
  },
  {
   "cell_type": "markdown",
   "id": "aad27121",
   "metadata": {},
   "source": [
    "# 14. What is the purpose of the try clause? What is the purpose of the except clause?\n",
    "- Try : The code that could potentially cause an error goes in the try clause.\n",
    "- except : The code that executes if an error happens goes in the except clause, like print statments about exceptions,\n",
    "loggin statements."
   ]
  },
  {
   "cell_type": "code",
   "execution_count": null,
   "id": "3f0c6108",
   "metadata": {},
   "outputs": [],
   "source": []
  }
 ],
 "metadata": {
  "kernelspec": {
   "display_name": "Python 3 (ipykernel)",
   "language": "python",
   "name": "python3"
  },
  "language_info": {
   "codemirror_mode": {
    "name": "ipython",
    "version": 3
   },
   "file_extension": ".py",
   "mimetype": "text/x-python",
   "name": "python",
   "nbconvert_exporter": "python",
   "pygments_lexer": "ipython3",
   "version": "3.9.12"
  }
 },
 "nbformat": 4,
 "nbformat_minor": 5
}
