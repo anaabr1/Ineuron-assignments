{
 "cells": [
  {
   "cell_type": "markdown",
   "id": "08786c10",
   "metadata": {},
   "source": [
    "# Q1. In the below elements which of them are values or an expression? eg:- values can be integer or string and expressions will be mathematical operators.\n",
    "1) *\n",
    "2) 'hello'\n",
    "3) -87.8\n",
    "4) -\n",
    "5) /\n",
    "6) +\n",
    "7) 6"
   ]
  },
  {
   "cell_type": "markdown",
   "id": "3a393561",
   "metadata": {},
   "source": [
    "ANSWER:\n",
    "- Following are operators:\n",
    "*,-,/,+\n",
    "- following are values:\n",
    "'hello', -87.8, 6"
   ]
  },
  {
   "cell_type": "markdown",
   "id": "4841c7cf",
   "metadata": {},
   "source": [
    "# Q2. What is the difference between string and variable?\n",
    "Answer:\n",
    "- Variable is a name given to the memory location where the values is stored in the memory. variables are containers for storing data value, a python variable can take any values, like, int, float or string. \n",
    "- String represents a text value enclosed with in two double quotes or two single quotes. "
   ]
  },
  {
   "cell_type": "markdown",
   "id": "f2752f7f",
   "metadata": {},
   "source": [
    "# Q3. Describe three different data types.\n",
    "Answer:\n",
    "- The three data types are:\n",
    "- string - any text with in two single or double quotes eg : a= \"hello\"\n",
    "- list - created by just placing the sequence inside the square brackets[] eg: [1,2,3]\n",
    "- tuples - created by placing a sequence of values separated by ‘comma’ with or without the use of parentheses for grouping of the data sequence eg: (1,2)"
   ]
  },
  {
   "cell_type": "markdown",
   "id": "0dc5a460",
   "metadata": {},
   "source": [
    "# Q4. What is an expression made up of? What do all expressions do?\n",
    "Answer: \n",
    "- An Expression is a combination of variables and operators. There expressions perform operation of variable based on the operators and evaluates the values to a single variable."
   ]
  },
  {
   "cell_type": "code",
   "execution_count": 9,
   "id": "f01d3804",
   "metadata": {},
   "outputs": [
    {
     "name": "stdout",
     "output_type": "stream",
     "text": [
      "c = 10 + 20\n",
      "c = 30\n"
     ]
    }
   ],
   "source": [
    "# variables \n",
    "a = 10\n",
    "b = 20\n",
    "\n",
    "# The expression - sum\n",
    "c = a + b\n",
    "    \n",
    "# Evalues and store the value in C\n",
    "print('c = {} + {}'.format(a,b))\n",
    "print('c =',c)"
   ]
  },
  {
   "cell_type": "markdown",
   "id": "97cbeb82",
   "metadata": {},
   "source": [
    "   # Q5. This assignment statements, like spam = 10. What is the difference between an expression and a statement?\n",
    " ANSWER:\n",
    "- The assignemnt statemets assign a value to the variable.\n",
    "- The expressions evalues the value to a variable.\n",
    "- in spam = 10 , value 10 in assigned to spam, and now spam will have value 10.\n",
    "- But in expression a = C+B, the value of a depends on the value of C and B."
   ]
  },
  {
   "cell_type": "markdown",
   "id": "f7584775",
   "metadata": {},
   "source": [
    "# Q6. After running the following code, what does the variable bacon contain?\n",
    "- bacon=22\n",
    "- bacon+1"
   ]
  },
  {
   "cell_type": "code",
   "execution_count": 10,
   "id": "56681d74",
   "metadata": {},
   "outputs": [
    {
     "name": "stdout",
     "output_type": "stream",
     "text": [
      "c =  23\n",
      "bacon =  22\n"
     ]
    }
   ],
   "source": [
    "bacon = 22\n",
    "c = bacon + 1\n",
    "print('c = ',c)\n",
    "print('bacon = ',bacon)"
   ]
  },
  {
   "cell_type": "markdown",
   "id": "38d3a718",
   "metadata": {},
   "source": [
    "# Q7. What should the values of the following two terms be?\n",
    "- 'spam' + 'spamspam'\n",
    "- 'spam' * 3"
   ]
  },
  {
   "cell_type": "code",
   "execution_count": 11,
   "id": "157e992d",
   "metadata": {},
   "outputs": [
    {
     "data": {
      "text/plain": [
       "'spamspamspam'"
      ]
     },
     "execution_count": 11,
     "metadata": {},
     "output_type": "execute_result"
    }
   ],
   "source": [
    "'spam'+'spamspam'"
   ]
  },
  {
   "cell_type": "code",
   "execution_count": 12,
   "id": "8cb90e1e",
   "metadata": {},
   "outputs": [
    {
     "data": {
      "text/plain": [
       "'spamspamspam'"
      ]
     },
     "execution_count": 12,
     "metadata": {},
     "output_type": "execute_result"
    }
   ],
   "source": [
    "'spam'*3"
   ]
  },
  {
   "cell_type": "markdown",
   "id": "8b6945e6",
   "metadata": {},
   "source": [
    "# Q8. Why is eggs a valid variable name while 100 is invalid?\n",
    "Answer:\n",
    "- Variable name can not starts with numbers.\n"
   ]
  },
  {
   "cell_type": "markdown",
   "id": "259f477a",
   "metadata": {},
   "source": [
    "# Q9. What three functions can be used to get the integer, floating-point number, or string version of a value?\n",
    "Answer: The following functions\n",
    "- int()\n",
    "- float()\n",
    "- str()  will convert the values to integer, float or string versions of the values passed to them"
   ]
  },
  {
   "cell_type": "markdown",
   "id": "74db97e4",
   "metadata": {},
   "source": [
    "# Q10. Why does this expression cause an error? How can you fix it? 'I have eaten ' + 99 + ' burritos.'\n",
    "Answer:\n",
    "- This will error out since string concatination with interger values can not be performed.\n",
    "- This can be fixed by converting 99 into string by str(99)"
   ]
  },
  {
   "cell_type": "code",
   "execution_count": 13,
   "id": "be60824c",
   "metadata": {},
   "outputs": [
    {
     "ename": "TypeError",
     "evalue": "can only concatenate str (not \"int\") to str",
     "output_type": "error",
     "traceback": [
      "\u001b[1;31m---------------------------------------------------------------------------\u001b[0m",
      "\u001b[1;31mTypeError\u001b[0m                                 Traceback (most recent call last)",
      "\u001b[1;32m~\\AppData\\Local\\Temp\\ipykernel_2316\\2878724274.py\u001b[0m in \u001b[0;36m<module>\u001b[1;34m\u001b[0m\n\u001b[1;32m----> 1\u001b[1;33m \u001b[1;34m'i have eaten'\u001b[0m\u001b[1;33m+\u001b[0m\u001b[1;36m99\u001b[0m\u001b[1;33m+\u001b[0m\u001b[1;34m'burritos'\u001b[0m\u001b[1;33m\u001b[0m\u001b[1;33m\u001b[0m\u001b[0m\n\u001b[0m",
      "\u001b[1;31mTypeError\u001b[0m: can only concatenate str (not \"int\") to str"
     ]
    }
   ],
   "source": [
    "'i have eaten'+99+'burritos'"
   ]
  },
  {
   "cell_type": "code",
   "execution_count": 19,
   "id": "8533e60b",
   "metadata": {},
   "outputs": [
    {
     "data": {
      "text/plain": [
       "'i have eaten 99 burritos'"
      ]
     },
     "execution_count": 19,
     "metadata": {},
     "output_type": "execute_result"
    }
   ],
   "source": [
    "'i have eaten '+ str(99) + ' burritos'"
   ]
  },
  {
   "cell_type": "code",
   "execution_count": null,
   "id": "64277b71",
   "metadata": {},
   "outputs": [],
   "source": []
  }
 ],
 "metadata": {
  "kernelspec": {
   "display_name": "Python 3 (ipykernel)",
   "language": "python",
   "name": "python3"
  },
  "language_info": {
   "codemirror_mode": {
    "name": "ipython",
    "version": 3
   },
   "file_extension": ".py",
   "mimetype": "text/x-python",
   "name": "python",
   "nbconvert_exporter": "python",
   "pygments_lexer": "ipython3",
   "version": "3.9.13"
  }
 },
 "nbformat": 4,
 "nbformat_minor": 5
}
