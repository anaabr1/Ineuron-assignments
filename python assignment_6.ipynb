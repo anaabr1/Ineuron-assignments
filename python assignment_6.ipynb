{
 "cells": [
  {
   "cell_type": "markdown",
   "id": "a77cc54a",
   "metadata": {},
   "source": [
    "# 1. What are escape characters, and how do you use them?\n",
    "- In Python strings, the backslash \"\\\" is a special character, also called the \"escape\" character. It is used in representing certain whitespace characters: \"\\t\" is a tab, \"\\n\" is a newline, and \"\\r\" is a carriage return\n",
    "\n",
    "- prefixing a special character with \"\\\" turns it into an ordinary character. This is called \"escaping\". For example, \"\\'\" is the single quote character. 'It\\'s Sunday' therefore is a valid string and equivalent to \"It's Sunday\". Likewise, '\"' can be escaped: \"\\\"hello\\\"\" is a string begins and ends with the literal double quote character. Finally, \"\\\" can be used to escape itself: \"\\\\\" is the literal backslash character."
   ]
  },
  {
   "cell_type": "code",
   "execution_count": 2,
   "id": "0136f16f",
   "metadata": {},
   "outputs": [
    {
     "name": "stdout",
     "output_type": "stream",
     "text": [
      "it's Sunday\n",
      "it's Sunday\n"
     ]
    }
   ],
   "source": [
    "print(\"it's Sunday\")\n",
    "#above sentence can be reperesented using escape character as\n",
    "print('it\\'s Sunday')"
   ]
  },
  {
   "cell_type": "markdown",
   "id": "ec96a4f4",
   "metadata": {},
   "source": [
    "# 2. What do the escape characters n and t stand for?\n",
    "\"\\t\" is a tab, \"\\n\" is a newline"
   ]
  },
  {
   "cell_type": "markdown",
   "id": "9b875da6",
   "metadata": {},
   "source": [
    "# 3. What is the way to include backslash characters in a string?\n",
    "- print('its a back slash \\ \\ in a sentence')"
   ]
  },
  {
   "cell_type": "markdown",
   "id": "ef48e041",
   "metadata": {},
   "source": [
    "# 4. The string \"Howl's Moving Castle\" is a correct value. Why isn't the single quote character in the word Howl's not escaped a problem?\n",
    "The single quote in Howl's is fine because you've used double quotes to mark the beginning and end of the string. \n",
    "like wise we can use double quotes in with single quotes."
   ]
  },
  {
   "cell_type": "code",
   "execution_count": 6,
   "id": "e62961b5",
   "metadata": {},
   "outputs": [
    {
     "name": "stdout",
     "output_type": "stream",
     "text": [
      "HowI's Moving Castle\n"
     ]
    }
   ],
   "source": [
    "print(\"HowI's Moving Castle\")"
   ]
  },
  {
   "cell_type": "code",
   "execution_count": 7,
   "id": "1731967c",
   "metadata": {},
   "outputs": [
    {
     "name": "stdout",
     "output_type": "stream",
     "text": [
      "Its a \"Nice\" Sunday\n"
     ]
    }
   ],
   "source": [
    "# like wise we can use double quote in side single quote\n",
    "print('Its a \"Nice\" Sunday')"
   ]
  },
  {
   "cell_type": "markdown",
   "id": "f0151432",
   "metadata": {},
   "source": [
    "# 5. How do you write a string of newlines if you don't want to use the n character?\n",
    "we can use the parameter end ='\\n' in print function"
   ]
  },
  {
   "cell_type": "code",
   "execution_count": 8,
   "id": "83b757c0",
   "metadata": {},
   "outputs": [
    {
     "name": "stdout",
     "output_type": "stream",
     "text": [
      "printing something in multiple lines\n",
      "newline\n"
     ]
    }
   ],
   "source": [
    "print(\"printing something in multiple lines\",end = '\\n')\n",
    "print(\"newline\")"
   ]
  },
  {
   "cell_type": "markdown",
   "id": "565c588e",
   "metadata": {},
   "source": [
    "# 6. What are the values of the given expressions?\n",
    "- 'Hello, world!'[1] - > e\n",
    "- 'Hello, world!'[0:5] -> 'Hello\n",
    "- 'Hello, world!'[:5] -> Hello\n",
    "- 'Hello, world!'[3:] -> lo, world!"
   ]
  },
  {
   "cell_type": "code",
   "execution_count": 9,
   "id": "04328768",
   "metadata": {},
   "outputs": [
    {
     "data": {
      "text/plain": [
       "'e'"
      ]
     },
     "execution_count": 9,
     "metadata": {},
     "output_type": "execute_result"
    }
   ],
   "source": [
    "'Hello, world!'[1]"
   ]
  },
  {
   "cell_type": "code",
   "execution_count": 11,
   "id": "c664d790",
   "metadata": {},
   "outputs": [
    {
     "data": {
      "text/plain": [
       "'Hello'"
      ]
     },
     "execution_count": 11,
     "metadata": {},
     "output_type": "execute_result"
    }
   ],
   "source": [
    "'Hello, world!'[0:5]"
   ]
  },
  {
   "cell_type": "code",
   "execution_count": 12,
   "id": "dfa40c0f",
   "metadata": {},
   "outputs": [
    {
     "data": {
      "text/plain": [
       "'Hello'"
      ]
     },
     "execution_count": 12,
     "metadata": {},
     "output_type": "execute_result"
    }
   ],
   "source": [
    "'Hello, world!'[:5]"
   ]
  },
  {
   "cell_type": "code",
   "execution_count": 13,
   "id": "a9717e5c",
   "metadata": {},
   "outputs": [
    {
     "data": {
      "text/plain": [
       "'lo, world!'"
      ]
     },
     "execution_count": 13,
     "metadata": {},
     "output_type": "execute_result"
    }
   ],
   "source": [
    "'Hello, world!'[3:]"
   ]
  },
  {
   "cell_type": "markdown",
   "id": "4b715811",
   "metadata": {},
   "source": [
    "# 7. What are the values of the following expressions?\n",
    "- 'Hello'.upper() - > HELLO\n",
    "- 'Hello'.upper().isupper() -> True\n",
    "- 'Hello'.upper().lower() -> hello"
   ]
  },
  {
   "cell_type": "code",
   "execution_count": 14,
   "id": "43cf3670",
   "metadata": {},
   "outputs": [
    {
     "data": {
      "text/plain": [
       "'HELLO'"
      ]
     },
     "execution_count": 14,
     "metadata": {},
     "output_type": "execute_result"
    }
   ],
   "source": [
    "'Hello'.upper()"
   ]
  },
  {
   "cell_type": "code",
   "execution_count": 16,
   "id": "7dc773d0",
   "metadata": {},
   "outputs": [
    {
     "data": {
      "text/plain": [
       "True"
      ]
     },
     "execution_count": 16,
     "metadata": {},
     "output_type": "execute_result"
    }
   ],
   "source": [
    "'Hello'.upper().isupper()"
   ]
  },
  {
   "cell_type": "code",
   "execution_count": 17,
   "id": "b987cb18",
   "metadata": {},
   "outputs": [
    {
     "data": {
      "text/plain": [
       "'hello'"
      ]
     },
     "execution_count": 17,
     "metadata": {},
     "output_type": "execute_result"
    }
   ],
   "source": [
    "'Hello'.upper().lower()"
   ]
  },
  {
   "cell_type": "markdown",
   "id": "4e2ef1e2",
   "metadata": {},
   "source": [
    "# 8. What are the values of the following expressions?\n",
    "- 'Remember, remember, the fifth of July.'.split() -> splits with space and returns list of words\n",
    "- '-'.join('There can only one.'.split()) splits with space and join with '_'"
   ]
  },
  {
   "cell_type": "code",
   "execution_count": 18,
   "id": "7f7de4aa",
   "metadata": {},
   "outputs": [
    {
     "data": {
      "text/plain": [
       "['Remember,', 'remember,', 'the', 'fifth', 'of', 'July.']"
      ]
     },
     "execution_count": 18,
     "metadata": {},
     "output_type": "execute_result"
    }
   ],
   "source": [
    "'Remember, remember, the fifth of July.'.split()"
   ]
  },
  {
   "cell_type": "code",
   "execution_count": 19,
   "id": "7bd6adff",
   "metadata": {},
   "outputs": [
    {
     "data": {
      "text/plain": [
       "'There-can-only-one.'"
      ]
     },
     "execution_count": 19,
     "metadata": {},
     "output_type": "execute_result"
    }
   ],
   "source": [
    "'-'.join('There can only one.'.split())"
   ]
  },
  {
   "cell_type": "markdown",
   "id": "fd32fda8",
   "metadata": {},
   "source": [
    "# 9. What are the methods for right-justifying, left-justifying, and centering a string?\n",
    "The following methods are used for justifying strings\n",
    "- ljust()\n",
    "- rjust()\n",
    "- center()"
   ]
  },
  {
   "cell_type": "code",
   "execution_count": 20,
   "id": "0a463a99",
   "metadata": {},
   "outputs": [
    {
     "data": {
      "text/plain": [
       "'Hello-----'"
      ]
     },
     "execution_count": 20,
     "metadata": {},
     "output_type": "execute_result"
    }
   ],
   "source": [
    "# left justified\n",
    "str =\"Hello\"\n",
    "str.ljust(10,\"-\")"
   ]
  },
  {
   "cell_type": "code",
   "execution_count": 21,
   "id": "86a7bef4",
   "metadata": {},
   "outputs": [
    {
     "data": {
      "text/plain": [
       "'*****************************How are you'"
      ]
     },
     "execution_count": 21,
     "metadata": {},
     "output_type": "execute_result"
    }
   ],
   "source": [
    "# right justified\n",
    "str =\"How are you\"\n",
    "str.rjust(40,'*')"
   ]
  },
  {
   "cell_type": "code",
   "execution_count": 22,
   "id": "7a943092",
   "metadata": {},
   "outputs": [
    {
     "data": {
      "text/plain": [
       "'**************How are you***************'"
      ]
     },
     "execution_count": 22,
     "metadata": {},
     "output_type": "execute_result"
    }
   ],
   "source": [
    "\n",
    "# center justified\n",
    "str =\"How are you\"\n",
    "str.center(40,'*')"
   ]
  },
  {
   "cell_type": "markdown",
   "id": "014b599c",
   "metadata": {},
   "source": [
    "# 10. What is the best way to remove whitespace characters from the start or end?\n",
    "- lstrip() -> removes white spaces from left of the string\n",
    "- rstrip() -> removes whitespaces from right of the string"
   ]
  },
  {
   "cell_type": "code",
   "execution_count": 24,
   "id": "2555fd66",
   "metadata": {},
   "outputs": [
    {
     "data": {
      "text/plain": [
       "'hkjhjdfhjd jkhjhd  '"
      ]
     },
     "execution_count": 24,
     "metadata": {},
     "output_type": "execute_result"
    }
   ],
   "source": [
    "str =\"  hkjhjdfhjd jkhjhd  \"\n",
    "str.lstrip()"
   ]
  },
  {
   "cell_type": "code",
   "execution_count": 25,
   "id": "babca026",
   "metadata": {},
   "outputs": [
    {
     "data": {
      "text/plain": [
       "'  hkjhjdfhjd jkhjhd'"
      ]
     },
     "execution_count": 25,
     "metadata": {},
     "output_type": "execute_result"
    }
   ],
   "source": [
    "str =\"  hkjhjdfhjd jkhjhd  \"\n",
    "str.rstrip()"
   ]
  },
  {
   "cell_type": "code",
   "execution_count": null,
   "id": "49db18f6",
   "metadata": {},
   "outputs": [],
   "source": []
  }
 ],
 "metadata": {
  "kernelspec": {
   "display_name": "Python 3 (ipykernel)",
   "language": "python",
   "name": "python3"
  },
  "language_info": {
   "codemirror_mode": {
    "name": "ipython",
    "version": 3
   },
   "file_extension": ".py",
   "mimetype": "text/x-python",
   "name": "python",
   "nbconvert_exporter": "python",
   "pygments_lexer": "ipython3",
   "version": "3.9.13"
  }
 },
 "nbformat": 4,
 "nbformat_minor": 5
}
